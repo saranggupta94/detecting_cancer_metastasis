{
 "cells": [
  {
   "cell_type": "markdown",
   "metadata": {
    "colab_type": "text",
    "id": "BKZlUbXEYrmG"
   },
   "source": [
    "## Importing the Libraries"
   ]
  },
  {
   "cell_type": "code",
   "execution_count": 1,
   "metadata": {
    "colab": {
     "base_uri": "https://localhost:8080/",
     "height": 973
    },
    "colab_type": "code",
    "id": "vXrW2b_HYhQX",
    "outputId": "8d1d9846-ba7d-4722-d9d5-3aa0b7f5de90"
   },
   "outputs": [
    {
     "name": "stdout",
     "output_type": "stream",
     "text": [
      "Reading package lists... Done\n",
      "Building dependency tree       \n",
      "Reading state information... Done\n",
      "The following package was automatically installed and is no longer required:\n",
      "  libnvidia-common-430\n",
      "Use 'apt autoremove' to remove it.\n",
      "The following additional packages will be installed:\n",
      "  libopenslide0\n",
      "Suggested packages:\n",
      "  libtiff-tools\n",
      "The following NEW packages will be installed:\n",
      "  libopenslide0 openslide-tools\n",
      "0 upgraded, 2 newly installed, 0 to remove and 7 not upgraded.\n",
      "Need to get 92.5 kB of archives.\n",
      "After this operation, 268 kB of additional disk space will be used.\n",
      "Get:1 http://archive.ubuntu.com/ubuntu bionic/universe amd64 libopenslide0 amd64 3.4.1+dfsg-2 [79.8 kB]\n",
      "Get:2 http://archive.ubuntu.com/ubuntu bionic/universe amd64 openslide-tools amd64 3.4.1+dfsg-2 [12.7 kB]\n",
      "Fetched 92.5 kB in 1s (104 kB/s)\n",
      "Selecting previously unselected package libopenslide0.\n",
      "(Reading database ... 145674 files and directories currently installed.)\n",
      "Preparing to unpack .../libopenslide0_3.4.1+dfsg-2_amd64.deb ...\n",
      "Unpacking libopenslide0 (3.4.1+dfsg-2) ...\n",
      "Selecting previously unselected package openslide-tools.\n",
      "Preparing to unpack .../openslide-tools_3.4.1+dfsg-2_amd64.deb ...\n",
      "Unpacking openslide-tools (3.4.1+dfsg-2) ...\n",
      "Setting up libopenslide0 (3.4.1+dfsg-2) ...\n",
      "Setting up openslide-tools (3.4.1+dfsg-2) ...\n",
      "Processing triggers for libc-bin (2.27-3ubuntu1) ...\n",
      "Processing triggers for man-db (2.8.3-2ubuntu0.1) ...\n",
      "Collecting openslide-python\n",
      "\u001b[?25l  Downloading https://files.pythonhosted.org/packages/26/5a/5b0adeabce81f018a9e4ffe9a419536064bc95c1b12194aff9b7e48f91f7/openslide-python-1.1.1.tar.gz (312kB)\n",
      "\u001b[K     |████████████████████████████████| 317kB 5.0MB/s \n",
      "\u001b[?25hRequirement already satisfied: Pillow in /usr/local/lib/python3.6/dist-packages (from openslide-python) (4.3.0)\n",
      "Requirement already satisfied: olefile in /usr/local/lib/python3.6/dist-packages (from Pillow->openslide-python) (0.46)\n",
      "Building wheels for collected packages: openslide-python\n",
      "  Building wheel for openslide-python (setup.py) ... \u001b[?25l\u001b[?25hdone\n",
      "  Created wheel for openslide-python: filename=openslide_python-1.1.1-cp36-cp36m-linux_x86_64.whl size=27371 sha256=f3dfc688534afe05e4adf953ec4c9d8eb60500a78c502d756561a4b6249390b8\n",
      "  Stored in directory: /root/.cache/pip/wheels/56/44/7e/16c9fc72cfbf1bffe48676b6835843d21abcc56566e958e7d6\n",
      "Successfully built openslide-python\n",
      "Installing collected packages: openslide-python\n",
      "Successfully installed openslide-python-1.1.1\n",
      "`%tensorflow_version` only switches the major version: `1.x` or `2.x`.\n",
      "You set: `2.x # enable TF 2.x in Colab`. This will be interpreted as: `2.x`.\n",
      "\n",
      "\n",
      "TensorFlow 2.x selected.\n"
     ]
    },
    {
     "name": "stderr",
     "output_type": "stream",
     "text": [
      "Using TensorFlow backend.\n"
     ]
    },
    {
     "name": "stdout",
     "output_type": "stream",
     "text": [
      "Reading package lists... Done\n",
      "Building dependency tree       \n",
      "Reading state information... Done\n",
      "openslide-tools is already the newest version (3.4.1+dfsg-2).\n",
      "The following package was automatically installed and is no longer required:\n",
      "  libnvidia-common-430\n",
      "Use 'apt autoremove' to remove it.\n",
      "0 upgraded, 0 newly installed, 0 to remove and 7 not upgraded.\n",
      "Requirement already satisfied: openslide-python in /usr/local/lib/python3.6/dist-packages (1.1.1)\n",
      "Requirement already satisfied: Pillow in /usr/local/lib/python3.6/dist-packages (from openslide-python) (4.3.0)\n",
      "Requirement already satisfied: olefile in /usr/local/lib/python3.6/dist-packages (from Pillow->openslide-python) (0.46)\n"
     ]
    }
   ],
   "source": [
    "# Install the OpenSlide C library and Python bindings\n",
    "!apt-get install openslide-tools\n",
    "!pip install openslide-python\n",
    "\n",
    "#Importing Libraries\n",
    "#Importing Libraries\n",
    "try:\n",
    "  %tensorflow_version 2.x # enable TF 2.x in Colab\n",
    "except Exception:\n",
    "  pass\n",
    "import tensorflow as tf\n",
    "\n",
    "from keras.preprocessing import image\n",
    "import numpy as np\n",
    "\n",
    "%matplotlib inline\n",
    "import matplotlib.pyplot as plt\n",
    "!apt-get install openslide-tools\n",
    "!pip install openslide-python\n",
    "from openslide import open_slide, __library_version__ as openslide_version\n",
    "import numpy as np\n",
    "import os\n",
    "from PIL import Image\n",
    "from skimage.color import rgb2gray\n",
    "from tqdm import tqdm\n",
    "import glob"
   ]
  },
  {
   "cell_type": "code",
   "execution_count": 2,
   "metadata": {
    "colab": {
     "base_uri": "https://localhost:8080/",
     "height": 119
    },
    "colab_type": "code",
    "id": "Q4Fc_UeJZTWI",
    "outputId": "c905c552-412a-47f3-e4e0-f0225d7109ba"
   },
   "outputs": [
    {
     "name": "stdout",
     "output_type": "stream",
     "text": [
      "Go to this URL in a browser: https://accounts.google.com/o/oauth2/auth?client_id=947318989803-6bn6qk8qdgf4n4g3pfee6491hc0brc4i.apps.googleusercontent.com&redirect_uri=urn%3aietf%3awg%3aoauth%3a2.0%3aoob&response_type=code&scope=email%20https%3a%2f%2fwww.googleapis.com%2fauth%2fdocs.test%20https%3a%2f%2fwww.googleapis.com%2fauth%2fdrive%20https%3a%2f%2fwww.googleapis.com%2fauth%2fdrive.photos.readonly%20https%3a%2f%2fwww.googleapis.com%2fauth%2fpeopleapi.readonly\n",
      "\n",
      "Enter your authorization code:\n",
      "··········\n",
      "Mounted at /content/drive\n"
     ]
    }
   ],
   "source": [
    "#Mounting Google Drive\n",
    "from google.colab import drive\n",
    "drive.mount('/content/drive', force_remount=True)"
   ]
  },
  {
   "cell_type": "markdown",
   "metadata": {
    "colab_type": "text",
    "id": "KmlF2AHvZkHs"
   },
   "source": [
    "## Utility Functions"
   ]
  },
  {
   "cell_type": "markdown",
   "metadata": {
    "colab_type": "text",
    "id": "EXmPF-SxmnZh"
   },
   "source": [
    "In this section, we will define some utility functions that would be used throughout the notebook. The following functions would be created alongside the parameters to be supplied:\n",
    "\n",
    "- **read_slide**: Read a WSI in .tiff format\n",
    "  - `slide`: An OpenSlide object\n",
    "  - `x` and `y`: Starting coordinates on the slide\n",
    "  - `level`: The zoom level to head the image at\n",
    "  - `width` and `height`: width, height of the image starting from `x` and `y` \n",
    "\n",
    "- **find_tissue_pixels**: Find the pixels in that contain the tissues in an image\n",
    "  - `image`: numpy array of image\n",
    "\n",
    "- **find_tissue_percentage**: \n",
    "  - `slide_image`: numpy array of image\n"
   ]
  },
  {
   "cell_type": "code",
   "execution_count": 0,
   "metadata": {
    "colab": {},
    "colab_type": "code",
    "id": "w03zJqABZb_4"
   },
   "outputs": [],
   "source": [
    "#Read Slide\n",
    "def read_slide(slide, x, y, level, width, height, as_float=False):\n",
    "    im = slide.read_region((x,y), level, (width, height))\n",
    "    im = im.convert('RGB') # drop the alpha channel\n",
    "    if as_float:\n",
    "        im = np.asarray(im, dtype=np.float32)\n",
    "    else:\n",
    "        im = np.asarray(im)\n",
    "    assert im.shape == (height, width, 3)\n",
    "    return im"
   ]
  },
  {
   "cell_type": "code",
   "execution_count": 0,
   "metadata": {
    "colab": {},
    "colab_type": "code",
    "id": "iaz6-KsNZjEv"
   },
   "outputs": [],
   "source": [
    "#Get Tissue Percentage\n",
    "def find_tissue_pixels(image, intensity=0.8):\n",
    "    im_gray = rgb2gray(image)\n",
    "    assert im_gray.shape == (image.shape[0], image.shape[1])\n",
    "    indices = np.where(im_gray <= intensity)\n",
    "    return list(zip(indices[0], indices[1]))\n",
    "\n",
    "def tissue_percentage(slide_image):\n",
    "  tissue_pixels = find_tissue_pixels(slide_image)\n",
    "  percent_tissue = len(tissue_pixels) / float(slide_image.shape[0] * slide_image.shape[1]) * 100\n",
    "  return percent_tissue"
   ]
  },
  {
   "cell_type": "code",
   "execution_count": 0,
   "metadata": {
    "colab": {},
    "colab_type": "code",
    "id": "WbtVBCpeZoNT"
   },
   "outputs": [],
   "source": [
    "#Creating the Train Directory\n",
    "colab_root = 'drive/My Drive/ADL Project'\n",
    "train_folder = os.path.join(colab_root, 'Train Data No Mask')\n",
    "os.mkdir(train_folder)\n",
    "\n",
    "for i in range(8):\n",
    "  folder = 'zoom_level_' + str(i)\n",
    "  os.mkdir(os.path.join(train_folder, folder))\n",
    "  positive_label = os.path.join(train_folder, folder, '1')\n",
    "  os.mkdir(positive_label)\n",
    "  negative_label = os.path.join(train_folder, folder, '0')\n",
    "  os.mkdir(negative_label)\n",
    "\n",
    "print('Mask Training Directories Created')\n",
    "\n",
    "colab_root = 'drive/My Drive/ADL Project'\n",
    "train_folder = os.path.join(colab_root, 'Train Data Mask')\n",
    "os.mkdir(train_folder)\n",
    "\n",
    "for i in range(8):\n",
    "  folder = 'zoom_level_' + str(i)\n",
    "  os.mkdir(os.path.join(train_folder, folder))\n",
    "  positive_label = os.path.join(train_folder, folder, '1')\n",
    "  os.mkdir(positive_label)\n",
    "  negative_label = os.path.join(train_folder, folder, '0')\n",
    "  os.mkdir(negative_label)\n",
    "\n",
    "print('Slide Training Directories Created')"
   ]
  },
  {
   "cell_type": "markdown",
   "metadata": {
    "colab_type": "text",
    "id": "lnqJ9fe8axXu"
   },
   "source": [
    "## Extract Patches"
   ]
  },
  {
   "cell_type": "markdown",
   "metadata": {
    "colab_type": "text",
    "id": "vfRLzc-UoPPU"
   },
   "source": [
    "In this section, we extract the patches from the Whole-Slide-Images and store it on to the Google Drive. Functions in this section as below:\n",
    "\n",
    "- **extract_patches**: Function to convolve over the images to extract patches\n",
    "  - ```level```: level at which the images should be extracted\n",
    "  - ```slide```: an OpenSlide object\n",
    "  - ```tumor_mask```: Mask of the Image\n",
    "  - ```stride```: Stride during convolution\n",
    "  - ```dimension```: Tuple of dimensions (width, height)\n",
    "  - ```image_num```: Identifier of the Image"
   ]
  },
  {
   "cell_type": "code",
   "execution_count": 0,
   "metadata": {
    "colab": {},
    "colab_type": "code",
    "id": "p0vXv-y4aAwS"
   },
   "outputs": [],
   "source": [
    "#Extract Patches Helper Function\n",
    "def extract_patches(level, slide, tumor_mask, stride, dimensions, image_num):\n",
    "  downsamples = int(slide.level_downsamples[level])\n",
    "  counter = 0\n",
    "  positive_class = 0\n",
    "  negative_class = 0\n",
    "  image_num = str(image_num)\n",
    "\n",
    "  for i in tqdm(range(slide.level_dimensions[level][0]//stride)):\n",
    "    for j in range((slide.level_dimensions[level][1]//stride)):\n",
    "\n",
    "      if (((i*stride*downsamples + dimensions[0]*downsamples)) <= slide.level_dimensions[0][0]) and (((j*stride*downsamples) + dimensions[1]*downsamples) <= slide.level_dimensions[0][1]):\n",
    "\n",
    "        slide_to_save = read_slide(slide, x=i*stride*downsamples, y=j*stride*downsamples, level=level, width=dimensions[0], height=dimensions[1])\n",
    "        mask = read_slide(tumor_mask, x=i*stride*downsamples, y=j*stride*downsamples, level=level, width=dimensions[0], height=dimensions[1])[:,:,0]\n",
    "        \n",
    "        if tissue_percentage(slide_to_save) >= 30:\n",
    "          if np.where(mask == 1)[0].shape != (0,) and np.where(mask == 1)[1].shape != (0,):\n",
    "            path = os.path.join('drive/My Drive/ADL Project/Train Data No Mask/zoom_level_'+str(level)+'/1', 'img_'+image_num+'_'+str(counter)+'.png')\n",
    "            tumor_path = os.path.join('drive/My Drive/ADL Project/Train Data Mask/zoom_level_'+str(level)+'/1', 'mask_'+'img_'+image_num+'_'+str(counter)+'.png')\n",
    "            plt.imsave(path, slide_to_save)\n",
    "            plt.imsave(tumor_path, mask)\n",
    "            positive_class += 1\n",
    "            counter+=1\n",
    "          else:\n",
    "            path = os.path.join('drive/My Drive/ADL Project/Train Data No Mask/zoom_level_'+str(level)+'/0', 'img_'+image_num+'_'+str(counter)+'.png')\n",
    "            tumor_path = os.path.join('drive/My Drive/ADL Project/Train Data Mask/zoom_level_'+str(level)+'/0', 'mask_'+'img_'+image_num+'_'+str(counter)+'.png')\n",
    "            plt.imsave(path, slide_to_save)\n",
    "            plt.imsave(tumor_path, mask)\n",
    "            negative_class +=1\n",
    "            counter+=1\n",
    "\n",
    "  print('A total of ' + str(counter) + ' patches created.')\n",
    "  print('Positive Class: ' + str(positive_class))\n",
    "  print('Negative Class: ' + str(negative_class))"
   ]
  },
  {
   "cell_type": "code",
   "execution_count": 0,
   "metadata": {
    "colab": {},
    "colab_type": "code",
    "id": "5rkIPo6EaTXj"
   },
   "outputs": [],
   "source": [
    "#Reading slide and mask files\n",
    "mask_files = []\n",
    "slide_files = []\n",
    "for file in glob.glob(\"drive/My Drive/ADL Project/slides_local/*_mask.tif\"):\n",
    "  mask_files.append(file)\n",
    "\n",
    "for file in glob.glob(\"drive/My Drive/ADL Project/slides_local/*.tif\"):\n",
    "  if (file not in mask_files) and ('tumor_038.tif' not in file):\n",
    "    slide_files.append(file)"
   ]
  },
  {
   "cell_type": "markdown",
   "metadata": {
    "colab_type": "text",
    "id": "7AqA3Vnuqr5n"
   },
   "source": [
    "***Train-Test*** : We will now generate a 85-15 train test split. Since, we have 21 images in total, we will have 18 images in training set and 3 images in validation set."
   ]
  },
  {
   "cell_type": "code",
   "execution_count": 0,
   "metadata": {
    "colab": {},
    "colab_type": "code",
    "id": "Ec262eRlahun"
   },
   "outputs": [],
   "source": [
    "#Train-Test Split: 85-15 Split\n",
    "slide_files_train = slide_files[:-3]\n",
    "mask_files_train = mask_files[:-3]\n",
    "\n",
    "slide_files_test = slide_files[-3:]\n",
    "mask_files_test = mask_files[-3:]"
   ]
  },
  {
   "cell_type": "markdown",
   "metadata": {
    "colab_type": "text",
    "id": "97X2E9dQrLp_"
   },
   "source": [
    "We will now extract patches at level 1-7 on all the 18 train images. We will specify the stride for convolution. The images would be stored in the Google Drive.  "
   ]
  },
  {
   "cell_type": "code",
   "execution_count": 0,
   "metadata": {
    "colab": {},
    "colab_type": "code",
    "id": "4TrjQThTaorJ"
   },
   "outputs": [],
   "source": [
    "#Extracting Patches for Level 1 - 7 (train images)\n",
    "for i in range(len(mask_files_train)):\n",
    "  print('File ' + str(i) + ' of ' + str(len(mask_files_train)))\n",
    "  slide_path = slide_files_train[i]\n",
    "  tumor_mask_path = mask_files_train[i]\n",
    "  slide = open_slide(slide_path)\n",
    "  tumor_mask = open_slide(tumor_mask_path)\n",
    "  for j in range(7, 1, -1):\n",
    "    print('Fetching Level: ' + str(j))\n",
    "    extract_patches(j, slide, tumor_mask, 299, (299, 299), i)"
   ]
  },
  {
   "cell_type": "markdown",
   "metadata": {
    "colab_type": "text",
    "id": "Xf8Y1jFobDrM"
   },
   "source": [
    "## Model Training"
   ]
  },
  {
   "cell_type": "markdown",
   "metadata": {
    "colab_type": "text",
    "id": "yawf4ExDsWyd"
   },
   "source": [
    "In this section, we will build and train the model in this section. We will use transfer learning and use ***InceptionV3*** as the base model. On top of that model, we will add a ***Global Average Pooling*** layer and one dense layer containing one neuron with sigmoid activation."
   ]
  },
  {
   "cell_type": "code",
   "execution_count": 5,
   "metadata": {
    "colab": {
     "base_uri": "https://localhost:8080/",
     "height": 49
    },
    "colab_type": "code",
    "id": "8c_nGgexbFsR",
    "outputId": "156f3d15-a24a-4a6b-b4ad-d8d598f5d903"
   },
   "outputs": [
    {
     "name": "stdout",
     "output_type": "stream",
     "text": [
      "Downloading data from https://github.com/fchollet/deep-learning-models/releases/download/v0.5/inception_v3_weights_tf_dim_ordering_tf_kernels_notop.h5\n",
      "87916544/87910968 [==============================] - 2s 0us/step\n"
     ]
    }
   ],
   "source": [
    "#Loading InceptionV3 Model\n",
    "base_model = tf.keras.applications.InceptionV3(include_top=False, weights='imagenet', input_shape=(299,299,3))\n",
    "base_model.trainable = True\n",
    "\n",
    "#Defining Additional Layers - Global Average Pooling and the Final Dense Layer with Softmax activation\n",
    "global_average_layer = tf.keras.layers.GlobalAveragePooling2D()\n",
    "prediction_layer = tf.keras.layers.Dense(1, activation='sigmoid')\n",
    "\n",
    "#Defining the model\n",
    "model = tf.keras.Sequential([\n",
    "  base_model,\n",
    "  global_average_layer,\n",
    "  prediction_layer\n",
    "])"
   ]
  },
  {
   "cell_type": "markdown",
   "metadata": {
    "colab_type": "text",
    "id": "nIe_wUZdteNp"
   },
   "source": [
    "We will now create a data generator and establish a **train-validation** split."
   ]
  },
  {
   "cell_type": "code",
   "execution_count": 8,
   "metadata": {
    "colab": {
     "base_uri": "https://localhost:8080/",
     "height": 82
    },
    "colab_type": "code",
    "id": "JcNBxZF_bYWW",
    "outputId": "304deb87-dcde-4b4b-b1cc-8ae1dccf60e0"
   },
   "outputs": [
    {
     "name": "stdout",
     "output_type": "stream",
     "text": [
      "Found 5787 images belonging to 2 classes.\n",
      "Found 1446 images belonging to 2 classes.\n",
      "data batch shape: (32, 299, 299, 3)\n",
      "labels batch shape: (32,)\n"
     ]
    }
   ],
   "source": [
    "#Creating Input Data Generator\n",
    "from tensorflow.keras.preprocessing.image import ImageDataGenerator\n",
    "\n",
    "path = '/content/drive/My Drive/ADL Project/Train Data No Mask v2/zoom_level_2'\n",
    "\n",
    "train_datagen = ImageDataGenerator(rescale=1./255, validation_split=0.2) # set validation split\n",
    "\n",
    "train_generator = train_datagen.flow_from_directory(path,\n",
    "    target_size=(299, 299),\n",
    "    batch_size=32,\n",
    "    class_mode='binary',\n",
    "    subset='training')\n",
    "\n",
    "validation_generator = train_datagen.flow_from_directory(\n",
    "    path,\n",
    "    target_size=(299, 299),\n",
    "    batch_size=32,\n",
    "    class_mode='binary',\n",
    "    subset='validation')\n",
    "\n",
    "for data_batch, labels_batch in train_generator:\n",
    "    print('data batch shape:', data_batch.shape)\n",
    "    print('labels batch shape:', labels_batch.shape)\n",
    "    break"
   ]
  },
  {
   "cell_type": "markdown",
   "metadata": {
    "colab_type": "text",
    "id": "bkazhv46uHPf"
   },
   "source": [
    "Since, the dataset is heavily imbalanced, we will establish different **class weights**."
   ]
  },
  {
   "cell_type": "code",
   "execution_count": 9,
   "metadata": {
    "colab": {
     "base_uri": "https://localhost:8080/",
     "height": 66
    },
    "colab_type": "code",
    "id": "cCff-idobiVG",
    "outputId": "5cd6b7c5-be5a-4ba3-db15-c2d9251a1ae4"
   },
   "outputs": [
    {
     "name": "stdout",
     "output_type": "stream",
     "text": [
      "Positive Class:  2006\n",
      "Negative Class:  5227\n",
      "Class Weight:  {0: 0.6918882724316051, 1: 1.80284147557328}\n"
     ]
    }
   ],
   "source": [
    "#Defining Class Weight\n",
    "neg_count = 0\n",
    "pos_count = 0\n",
    "for file in glob.glob(\"/content/drive/My Drive/ADL Project/Train Data No Mask v2/zoom_level_2/0/*\"):\n",
    "  neg_count += 1\n",
    "\n",
    "for file in glob.glob(\"/content/drive/My Drive/ADL Project/Train Data No Mask v2/zoom_level_2/1/*\"):\n",
    "  pos_count += 1\n",
    "\n",
    "class_weight = {0: 1,\n",
    "                1: neg_count/pos_count}\n",
    "\n",
    "\n",
    "print('Positive Class: ', pos_count)\n",
    "print('Negative Class: ', neg_count)\n",
    "\n",
    "weight_for_0 = (1 / neg_count)*(neg_count+pos_count)/2.0 \n",
    "weight_for_1 = (1 / pos_count)*(neg_count+pos_count)/2.0\n",
    "\n",
    "class_weight = {0: weight_for_0,\n",
    "                1: weight_for_1}\n",
    "\n",
    "print('Class Weight: ', class_weight)"
   ]
  },
  {
   "cell_type": "markdown",
   "metadata": {
    "colab_type": "text",
    "id": "xLxyPSloubPk"
   },
   "source": [
    "We will now define the metrics that we would use for evaluation. We will monior **True Positives**, **True Negatives, False Positives, False Negatives, Precision, Recall and AUC.**\n",
    "\n",
    "Separately, we establish a **callback** to save the best weights based on validation AUC."
   ]
  },
  {
   "cell_type": "code",
   "execution_count": 0,
   "metadata": {
    "colab": {},
    "colab_type": "code",
    "id": "K-9ei9DBcMNS"
   },
   "outputs": [],
   "source": [
    "#Defining the metrics\n",
    "METRICS = [\n",
    "      tf.keras.metrics.TruePositives(name='tp'),\n",
    "      tf.keras.metrics.FalsePositives(name='fp'),\n",
    "      tf.keras.metrics.TrueNegatives(name='tn'),\n",
    "      tf.keras.metrics.FalseNegatives(name='fn'), \n",
    "      tf.keras.metrics.BinaryAccuracy(name='accuracy'),\n",
    "      tf.keras.metrics.Precision(name='precision'),\n",
    "      tf.keras.metrics.Recall(name='recall'),\n",
    "      tf.keras.metrics.AUC(name='auc'),\n",
    "]\n",
    "\n",
    "#Defining Checkpoints\n",
    "checkpoint = tf.keras.callbacks.ModelCheckpoint(\"/content/drive/My Drive/ADL Project/model_l2.h5\", monitor='val_auc', save_best_only=True, \n",
    "                                                mode='auto', save_weights_only=False)"
   ]
  },
  {
   "cell_type": "markdown",
   "metadata": {
    "colab_type": "text",
    "id": "mZPdTyzQxZSy"
   },
   "source": [
    "Now we will compile and run the model. We will use **RMSProp** as the optimizer, **BinaryCrossEntropy** and train for 10 epochs."
   ]
  },
  {
   "cell_type": "code",
   "execution_count": 11,
   "metadata": {
    "colab": {
     "base_uri": "https://localhost:8080/",
     "height": 564
    },
    "colab_type": "code",
    "id": "q7dWBhLpcQW-",
    "outputId": "be2d1d3d-652e-4c69-9631-723986320c1c"
   },
   "outputs": [
    {
     "name": "stdout",
     "output_type": "stream",
     "text": [
      "WARNING:tensorflow:From <ipython-input-11-03780f2ea594>:12: Model.fit_generator (from tensorflow.python.keras.engine.training) is deprecated and will be removed in a future version.\n",
      "Instructions for updating:\n",
      "Please use Model.fit, which supports generators.\n",
      "WARNING:tensorflow:sample_weight modes were coerced from\n",
      "  ...\n",
      "    to  \n",
      "  ['...']\n",
      "WARNING:tensorflow:sample_weight modes were coerced from\n",
      "  ...\n",
      "    to  \n",
      "  ['...']\n",
      "Train for 180 steps, validate for 45 steps\n",
      "Epoch 1/10\n",
      "180/180 [==============================] - 2833s 16s/step - loss: 0.2462 - tp: 1401.0000 - fp: 286.0000 - tn: 3870.0000 - fn: 198.0000 - accuracy: 0.9159 - precision: 0.8305 - recall: 0.8762 - auc: 0.9575 - val_loss: 1.3564 - val_tp: 225.0000 - val_fp: 10.0000 - val_tn: 1030.0000 - val_fn: 175.0000 - val_accuracy: 0.8715 - val_precision: 0.9574 - val_recall: 0.5625 - val_auc: 0.8613\n",
      "Epoch 2/10\n",
      "180/180 [==============================] - 62s 344ms/step - loss: 0.0865 - tp: 1540.0000 - fp: 87.0000 - tn: 4068.0000 - fn: 60.0000 - accuracy: 0.9745 - precision: 0.9465 - recall: 0.9625 - auc: 0.9942 - val_loss: 8.6173 - val_tp: 62.0000 - val_fp: 59.0000 - val_tn: 981.0000 - val_fn: 338.0000 - val_accuracy: 0.7243 - val_precision: 0.5124 - val_recall: 0.1550 - val_auc: 0.5876\n",
      "Epoch 3/10\n",
      "180/180 [==============================] - 59s 328ms/step - loss: 0.0201 - tp: 1587.0000 - fp: 24.0000 - tn: 4135.0000 - fn: 9.0000 - accuracy: 0.9943 - precision: 0.9851 - recall: 0.9944 - auc: 0.9997 - val_loss: 2.4597 - val_tp: 184.0000 - val_fp: 0.0000e+00 - val_tn: 1040.0000 - val_fn: 216.0000 - val_accuracy: 0.8500 - val_precision: 1.0000 - val_recall: 0.4600 - val_auc: 0.7999\n",
      "Epoch 4/10\n",
      "180/180 [==============================] - 59s 326ms/step - loss: 0.0193 - tp: 1590.0000 - fp: 25.0000 - tn: 4129.0000 - fn: 11.0000 - accuracy: 0.9937 - precision: 0.9845 - recall: 0.9931 - auc: 0.9997 - val_loss: 4.9167 - val_tp: 170.0000 - val_fp: 60.0000 - val_tn: 980.0000 - val_fn: 230.0000 - val_accuracy: 0.7986 - val_precision: 0.7391 - val_recall: 0.4250 - val_auc: 0.7434\n",
      "Epoch 5/10\n",
      "180/180 [==============================] - 58s 324ms/step - loss: 0.0124 - tp: 1587.0000 - fp: 14.0000 - tn: 4147.0000 - fn: 7.0000 - accuracy: 0.9964 - precision: 0.9913 - recall: 0.9956 - auc: 0.9995 - val_loss: 1.0695 - val_tp: 259.0000 - val_fp: 36.0000 - val_tn: 1004.0000 - val_fn: 141.0000 - val_accuracy: 0.8771 - val_precision: 0.8780 - val_recall: 0.6475 - val_auc: 0.8741\n",
      "Epoch 6/10\n",
      "180/180 [==============================] - 59s 326ms/step - loss: 0.0172 - tp: 1587.0000 - fp: 17.0000 - tn: 4139.0000 - fn: 12.0000 - accuracy: 0.9950 - precision: 0.9894 - recall: 0.9925 - auc: 0.9993 - val_loss: 1.1369 - val_tp: 304.0000 - val_fp: 93.0000 - val_tn: 947.0000 - val_fn: 96.0000 - val_accuracy: 0.8687 - val_precision: 0.7657 - val_recall: 0.7600 - val_auc: 0.9027\n",
      "Epoch 7/10\n",
      "180/180 [==============================] - 58s 325ms/step - loss: 0.0124 - tp: 1588.0000 - fp: 13.0000 - tn: 4147.0000 - fn: 7.0000 - accuracy: 0.9965 - precision: 0.9919 - recall: 0.9956 - auc: 0.9996 - val_loss: 1.4957 - val_tp: 276.0000 - val_fp: 72.0000 - val_tn: 968.0000 - val_fn: 124.0000 - val_accuracy: 0.8639 - val_precision: 0.7931 - val_recall: 0.6900 - val_auc: 0.8679\n",
      "Epoch 8/10\n",
      "180/180 [==============================] - 58s 325ms/step - loss: 0.0098 - tp: 1595.0000 - fp: 13.0000 - tn: 4144.0000 - fn: 3.0000 - accuracy: 0.9972 - precision: 0.9919 - recall: 0.9981 - auc: 0.9998 - val_loss: 1.4967 - val_tp: 232.0000 - val_fp: 4.0000 - val_tn: 1036.0000 - val_fn: 168.0000 - val_accuracy: 0.8806 - val_precision: 0.9831 - val_recall: 0.5800 - val_auc: 0.8629\n",
      "Epoch 9/10\n",
      "180/180 [==============================] - 58s 325ms/step - loss: 0.0148 - tp: 1588.0000 - fp: 18.0000 - tn: 4142.0000 - fn: 7.0000 - accuracy: 0.9957 - precision: 0.9888 - recall: 0.9956 - auc: 0.9993 - val_loss: 1.2313 - val_tp: 285.0000 - val_fp: 44.0000 - val_tn: 996.0000 - val_fn: 115.0000 - val_accuracy: 0.8896 - val_precision: 0.8663 - val_recall: 0.7125 - val_auc: 0.8890\n",
      "Epoch 10/10\n",
      "180/180 [==============================] - 58s 325ms/step - loss: 0.0090 - tp: 1587.0000 - fp: 10.0000 - tn: 4151.0000 - fn: 7.0000 - accuracy: 0.9970 - precision: 0.9937 - recall: 0.9956 - auc: 0.9996 - val_loss: 1.6055 - val_tp: 237.0000 - val_fp: 42.0000 - val_tn: 998.0000 - val_fn: 163.0000 - val_accuracy: 0.8576 - val_precision: 0.8495 - val_recall: 0.5925 - val_auc: 0.8595\n"
     ]
    }
   ],
   "source": [
    "#Compiling the model\n",
    "model.compile(optimizer=tf.keras.optimizers.RMSprop(learning_rate=0.0001, rho=0.95),\n",
    "              loss=tf.keras.losses.BinaryCrossentropy(),\n",
    "              metrics=METRICS)\n",
    "\n",
    "#Fitting the model\n",
    "history = model.fit_generator(\n",
    "    train_generator,\n",
    "    steps_per_epoch = train_generator.samples // 32,\n",
    "    validation_data = validation_generator, \n",
    "    validation_steps = validation_generator.samples // 32,\n",
    "    class_weight=class_weight,\n",
    "    epochs = 10, callbacks=[checkpoint])"
   ]
  },
  {
   "cell_type": "markdown",
   "metadata": {
    "colab_type": "text",
    "id": "Q-DVDMfqxwIP"
   },
   "source": [
    "Let us now plot **AUC** and **Loss** for different epochs."
   ]
  },
  {
   "cell_type": "code",
   "execution_count": 12,
   "metadata": {
    "colab": {
     "base_uri": "https://localhost:8080/",
     "height": 403
    },
    "colab_type": "code",
    "id": "0cNY-WwzcsZv",
    "outputId": "359b2499-159c-459d-b293-4464439b039b"
   },
   "outputs": [
    {
     "data": {
      "image/png": "[encoded data removed]",
      "text/plain": [
       "<Figure size 864x432 with 1 Axes>"
      ]
     },
     "metadata": {
      "tags": []
     },
     "output_type": "display_data"
    }
   ],
   "source": [
    "#Plotting Model Results - AUC\n",
    "_ = plt.figure(figsize=(12,6))\n",
    "_ = plt.plot(history.history['auc'], label='Train')\n",
    "_ = plt.plot(history.history['val_auc'], label='Validation')\n",
    "_ = plt.xlabel('Epoch')\n",
    "_ = plt.ylabel('Area Under Curve (AUC)')\n",
    "_ = plt.legend(loc='best')\n",
    "_ = plt.title('AUC with Epoch')"
   ]
  },
  {
   "cell_type": "code",
   "execution_count": 13,
   "metadata": {
    "colab": {
     "base_uri": "https://localhost:8080/",
     "height": 403
    },
    "colab_type": "code",
    "id": "JgRcnLWQeBLI",
    "outputId": "95823eb5-b81a-4917-c28b-d3d336b733ce"
   },
   "outputs": [
    {
     "data": {
      "image/png": "[encoded data removed]",
      "text/plain": [
       "<Figure size 864x432 with 1 Axes>"
      ]
     },
     "metadata": {
      "tags": []
     },
     "output_type": "display_data"
    }
   ],
   "source": [
    "#Plotting Model Results - Loss\n",
    "_ = plt.figure(figsize=(12,6))\n",
    "_ = plt.plot(history.history['loss'], label='Train')\n",
    "_ = plt.plot(history.history['val_loss'], label='Validation')\n",
    "_ = plt.xlabel('Epoch')\n",
    "_ = plt.ylabel('Loss')\n",
    "_ = plt.legend(loc='best')\n",
    "_ = plt.title('Loss with Epoch')"
   ]
  },
  {
   "cell_type": "markdown",
   "metadata": {
    "colab_type": "text",
    "id": "jndUOlGweMrM"
   },
   "source": [
    "## Prediction and Generating Heatmap"
   ]
  },
  {
   "cell_type": "markdown",
   "metadata": {
    "colab_type": "text",
    "id": "gUWyPBXyyOed"
   },
   "source": [
    "In this section, we will now load the trained model and generate a probability heatmap. The functions defined in this section are:\n",
    "\n",
    "- **extract_patches_heatmap**: Convolve over the WSI and perform prediction on individual patches.\n",
    "  - **level**: Level at which predictions to be performed\n",
    "  - **slide**: OpenSlide Object\n",
    "  - **stride**: Stride for convolution (use 299)\n",
    "  - **dimensions**: Dimensions of the patches (use 299 x 299 as the model is trained on that.\n",
    "  - **model**: model to use for prediction\n",
    "\n",
    "- **predict_patches**: Utility function for generating heatmap\n",
    "  - **slide_path**: path of the test image\n",
    "  - **level**: level at which prediction to be made\n",
    "  - **model**: trained model"
   ]
  },
  {
   "cell_type": "code",
   "execution_count": 0,
   "metadata": {
    "colab": {},
    "colab_type": "code",
    "id": "9taseK8Ux7cM"
   },
   "outputs": [],
   "source": [
    "#Loading the model\n",
    "trained_model = tf.keras.models.load_model('/content/drive/My Drive/ADL Project/model_l2.h5')"
   ]
  },
  {
   "cell_type": "code",
   "execution_count": 0,
   "metadata": {
    "colab": {},
    "colab_type": "code",
    "id": "LF8CWtT3eSY3"
   },
   "outputs": [],
   "source": [
    "#Extract Patches Function\n",
    "def extract_patches_heatmap(level, slide, stride, dimensions, model):\n",
    "  downsamples = int(slide.level_downsamples[level])\n",
    "  counter = 0\n",
    "  positive_class = 0\n",
    "  negative_class = 0\n",
    "  mask_arr = np.array([[0]*299]*299)\n",
    "\n",
    "  predictions_array = np.zeros((slide.level_dimensions[level][1]//299, slide.level_dimensions[level][0]//299))\n",
    "  predictions_probabilities = np.zeros((slide.level_dimensions[level][1]//299, slide.level_dimensions[level][0]//299))\n",
    "\n",
    "  for i in tqdm(range(slide.level_dimensions[level][0]//stride)):\n",
    "    for j in range((slide.level_dimensions[level][1]//stride)):\n",
    "\n",
    "      if (((i*stride*downsamples + dimensions[0]*downsamples)) <= slide.level_dimensions[0][0]) and (((j*stride*downsamples) + dimensions[1]*downsamples) <= slide.level_dimensions[0][1]):\n",
    "        patch = read_slide(slide, x=i*stride*downsamples, y=j*stride*downsamples, level=level, width=dimensions[0], height=dimensions[1])\n",
    "        if tissue_percentage(patch) >= 80:\n",
    "          patch = image.img_to_array(patch)\n",
    "          patch = patch/255.\n",
    "          patch = np.expand_dims(patch, axis=0)\n",
    "          prediction = model.predict(patch)\n",
    "          \n",
    "          predictions_probabilities[j, i] = prediction[0][0]\n",
    "          if(prediction > 0.5):\n",
    "            predictions_array[j, i] = 1\n",
    "          else:\n",
    "            predictions_array[j, i] = 0\n",
    "\n",
    "        else:\n",
    "          predictions_probabilities[j, i] = 0\n",
    "          predictions_array[j, i] = 0\n",
    "        counter += 1\n",
    "\n",
    "  return predictions_array, predictions_probabilities"
   ]
  },
  {
   "cell_type": "code",
   "execution_count": 0,
   "metadata": {
    "colab": {},
    "colab_type": "code",
    "id": "CpOg19q0ef7m"
   },
   "outputs": [],
   "source": [
    "#Predict Patches\n",
    "def predict_patches(slide_path, level, model):\n",
    "  slide = open_slide(slide_path)\n",
    "  print('Prediction on Level: ' + str(level))\n",
    "  pred_arr, pred_prob = extract_patches_heatmap(level, slide , 299, (299, 299), model)\n",
    "  _ = plt.figure(figsize=(10,10))\n",
    "  _ = plt.matshow(pred_prob, fignum=1);\n",
    "  _ = plt.colorbar()\n",
    "  _ = plt.show()"
   ]
  },
  {
   "cell_type": "code",
   "execution_count": 31,
   "metadata": {
    "colab": {
     "base_uri": "https://localhost:8080/",
     "height": 628
    },
    "colab_type": "code",
    "id": "g6UURPHvggb7",
    "outputId": "03e536db-e6ac-4a25-dd5c-4a0065dea519"
   },
   "outputs": [
    {
     "name": "stderr",
     "output_type": "stream",
     "text": [
      "\r",
      "  0%|          | 0/116 [00:00<?, ?it/s]"
     ]
    },
    {
     "name": "stdout",
     "output_type": "stream",
     "text": [
      "Prediction on Level: 2\n"
     ]
    },
    {
     "name": "stderr",
     "output_type": "stream",
     "text": [
      "100%|██████████| 116/116 [02:17<00:00,  2.37it/s]\n"
     ]
    },
    {
     "data": {
      "image/png": "[encoded data removed]",
      "text/plain": [
       "<Figure size 720x720 with 2 Axes>"
      ]
     },
     "metadata": {
      "tags": []
     },
     "output_type": "display_data"
    }
   ],
   "source": [
    "#Generating Heatmap for one Image\n",
    "predict_patches(slide_path=slide_files_test[-2], level=2, model=trained_model)"
   ]
  }
 ],
 "metadata": {
  "accelerator": "GPU",
  "colab": {
   "name": "final_code.ipynb",
   "provenance": []
  },
  "kernelspec": {
   "display_name": "Python 3",
   "language": "python",
   "name": "python3"
  },
  "language_info": {
   "codemirror_mode": {
    "name": "ipython",
    "version": 3
   },
   "file_extension": ".py",
   "mimetype": "text/x-python",
   "name": "python",
   "nbconvert_exporter": "python",
   "pygments_lexer": "ipython3",
   "version": "3.6.8"
  }
 },
 "nbformat": 4,
 "nbformat_minor": 1
}
